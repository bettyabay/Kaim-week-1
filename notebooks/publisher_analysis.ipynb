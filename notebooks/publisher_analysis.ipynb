{
 "cells": [
  {
   "cell_type": "code",
   "execution_count": null,
   "metadata": {},
   "outputs": [],
   "source": [
    "import sys\n",
    "sys.path.append(\"../scripts\")  # Add scripts folder to the path\n",
    "\n",
    "from data_loader import load_data\n",
    "from eda import count_articles_per_publisher, extract_publisher_domain, analyze_publisher_types\n",
    "\n",
    "# Load dataset\n",
    "file_path = \"../data/financial_news.csv\"\n",
    "df = load_data(file_path)\n",
    "\n",
    "# Count articles per publisher\n",
    "publisher_counts = count_articles_per_publisher(df)\n",
    "print(\"Number of Articles per Publisher:\")\n",
    "print(publisher_counts)\n",
    "\n",
    "# Extract domains from publisher emails (if applicable)\n",
    "df = extract_publisher_domain(df)\n",
    "print(\"\\nPublisher Domains:\")\n",
    "print(df[['publisher', 'publisher_domain']].head())\n",
    "\n",
    "# Analyze the types of news each publisher reports (based on headline content)\n",
    "publisher_types = analyze_publisher_types(df)\n",
    "print(\"\\nTypes of News by Publisher (Keywords in Headlines):\")\n",
    "for publisher, keywords in publisher_types.items():\n",
    "    print(f\"{publisher}: {keywords[:10]}\")  # Displaying first 10 keywords\n"
   ]
  },
  {
   "cell_type": "code",
   "execution_count": null,
   "metadata": {},
   "outputs": [],
   "source": []
  },
  {
   "cell_type": "code",
   "execution_count": null,
   "metadata": {},
   "outputs": [],
   "source": []
  },
  {
   "cell_type": "code",
   "execution_count": null,
   "metadata": {},
   "outputs": [],
   "source": []
  },
  {
   "cell_type": "code",
   "execution_count": null,
   "metadata": {},
   "outputs": [],
   "source": []
  },
  {
   "cell_type": "code",
   "execution_count": null,
   "metadata": {},
   "outputs": [],
   "source": []
  },
  {
   "cell_type": "code",
   "execution_count": null,
   "metadata": {},
   "outputs": [],
   "source": []
  },
  {
   "cell_type": "code",
   "execution_count": null,
   "metadata": {},
   "outputs": [],
   "source": []
  },
  {
   "cell_type": "code",
   "execution_count": null,
   "metadata": {},
   "outputs": [],
   "source": []
  },
  {
   "cell_type": "code",
   "execution_count": null,
   "metadata": {},
   "outputs": [],
   "source": []
  },
  {
   "cell_type": "code",
   "execution_count": null,
   "metadata": {},
   "outputs": [],
   "source": []
  },
  {
   "cell_type": "code",
   "execution_count": null,
   "metadata": {},
   "outputs": [],
   "source": []
  }
 ],
 "metadata": {
  "kernelspec": {
   "display_name": "Python 3",
   "language": "python",
   "name": "python3"
  },
  "language_info": {
   "name": "python",
   "version": "3.13.1"
  }
 },
 "nbformat": 4,
 "nbformat_minor": 2
}
