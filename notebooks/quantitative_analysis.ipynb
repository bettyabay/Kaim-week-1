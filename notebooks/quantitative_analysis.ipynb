{
 "cells": [
  {
   "cell_type": "code",
   "execution_count": null,
   "metadata": {},
   "outputs": [],
   "source": [
    "import sys, os\n",
    "import pandas as pd\n",
    "import talib"
   ]
  },
  {
   "cell_type": "code",
   "execution_count": 2,
   "metadata": {},
   "outputs": [],
   "source": [
    "# Load stock data\n",
    "stock_data = pd.read_csv(\"C:/Users/USER/Desktop/KAIM/Kaim-week-1/Data/merged_output.csv\")\n",
    "stock_data['Date'] = pd.to_datetime(stock_data['Date'])\n",
    "stock_data.set_index('Date', inplace=True)"
   ]
  },
  {
   "cell_type": "code",
   "execution_count": 22,
   "metadata": {},
   "outputs": [],
   "source": [
    "\n",
    "sys.path.append(\"../scripts\") \n",
    "from data_loader import load_stock_data\n",
    "merged_df = pd.read_csv(\"C:/Users/USER/Desktop/KAIM/Kaim-week-1/Data/merged_output.csv\", header=0)\n",
    "from eda import check_missing_values, handle_missing_values, detect_outliers, remove_outliers\n",
    "\n",
    "from technical_indicators import calculate_close_indicators,calculate_high_indicators, calculate_low_indicators,calculate_open_indicators,calculate_volume_indicators,calculate_all_indicators"
   ]
  },
  {
   "cell_type": "code",
   "execution_count": 27,
   "metadata": {},
   "outputs": [
    {
     "data": {
      "text/html": [
       "<div>\n",
       "<style scoped>\n",
       "    .dataframe tbody tr th:only-of-type {\n",
       "        vertical-align: middle;\n",
       "    }\n",
       "\n",
       "    .dataframe tbody tr th {\n",
       "        vertical-align: top;\n",
       "    }\n",
       "\n",
       "    .dataframe thead th {\n",
       "        text-align: right;\n",
       "    }\n",
       "</style>\n",
       "<table border=\"1\" class=\"dataframe\">\n",
       "  <thead>\n",
       "    <tr style=\"text-align: right;\">\n",
       "      <th></th>\n",
       "      <th>Date</th>\n",
       "      <th>Open</th>\n",
       "      <th>High</th>\n",
       "      <th>Low</th>\n",
       "      <th>Close</th>\n",
       "      <th>Adj Close</th>\n",
       "      <th>Volume</th>\n",
       "      <th>Dividends</th>\n",
       "      <th>Stock Splits</th>\n",
       "    </tr>\n",
       "  </thead>\n",
       "  <tbody>\n",
       "    <tr>\n",
       "      <th>0</th>\n",
       "      <td>1980-12-12</td>\n",
       "      <td>0.128348</td>\n",
       "      <td>0.128906</td>\n",
       "      <td>0.128348</td>\n",
       "      <td>0.128348</td>\n",
       "      <td>0.098943</td>\n",
       "      <td>469033600</td>\n",
       "      <td>0.0</td>\n",
       "      <td>0.0</td>\n",
       "    </tr>\n",
       "    <tr>\n",
       "      <th>1</th>\n",
       "      <td>1980-12-15</td>\n",
       "      <td>0.122210</td>\n",
       "      <td>0.122210</td>\n",
       "      <td>0.121652</td>\n",
       "      <td>0.121652</td>\n",
       "      <td>0.093781</td>\n",
       "      <td>175884800</td>\n",
       "      <td>0.0</td>\n",
       "      <td>0.0</td>\n",
       "    </tr>\n",
       "    <tr>\n",
       "      <th>2</th>\n",
       "      <td>1980-12-16</td>\n",
       "      <td>0.113281</td>\n",
       "      <td>0.113281</td>\n",
       "      <td>0.112723</td>\n",
       "      <td>0.112723</td>\n",
       "      <td>0.086898</td>\n",
       "      <td>105728000</td>\n",
       "      <td>0.0</td>\n",
       "      <td>0.0</td>\n",
       "    </tr>\n",
       "    <tr>\n",
       "      <th>3</th>\n",
       "      <td>1980-12-17</td>\n",
       "      <td>0.115513</td>\n",
       "      <td>0.116071</td>\n",
       "      <td>0.115513</td>\n",
       "      <td>0.115513</td>\n",
       "      <td>0.089049</td>\n",
       "      <td>86441600</td>\n",
       "      <td>0.0</td>\n",
       "      <td>0.0</td>\n",
       "    </tr>\n",
       "    <tr>\n",
       "      <th>4</th>\n",
       "      <td>1980-12-18</td>\n",
       "      <td>0.118862</td>\n",
       "      <td>0.119420</td>\n",
       "      <td>0.118862</td>\n",
       "      <td>0.118862</td>\n",
       "      <td>0.091630</td>\n",
       "      <td>73449600</td>\n",
       "      <td>0.0</td>\n",
       "      <td>0.0</td>\n",
       "    </tr>\n",
       "  </tbody>\n",
       "</table>\n",
       "</div>"
      ],
      "text/plain": [
       "         Date      Open      High       Low     Close  Adj Close     Volume  \\\n",
       "0  1980-12-12  0.128348  0.128906  0.128348  0.128348   0.098943  469033600   \n",
       "1  1980-12-15  0.122210  0.122210  0.121652  0.121652   0.093781  175884800   \n",
       "2  1980-12-16  0.113281  0.113281  0.112723  0.112723   0.086898  105728000   \n",
       "3  1980-12-17  0.115513  0.116071  0.115513  0.115513   0.089049   86441600   \n",
       "4  1980-12-18  0.118862  0.119420  0.118862  0.118862   0.091630   73449600   \n",
       "\n",
       "   Dividends  Stock Splits  \n",
       "0        0.0           0.0  \n",
       "1        0.0           0.0  \n",
       "2        0.0           0.0  \n",
       "3        0.0           0.0  \n",
       "4        0.0           0.0  "
      ]
     },
     "execution_count": 27,
     "metadata": {},
     "output_type": "execute_result"
    }
   ],
   "source": [
    "merged_df.head()"
   ]
  },
  {
   "cell_type": "code",
   "execution_count": 28,
   "metadata": {},
   "outputs": [
    {
     "name": "stdout",
     "output_type": "stream",
     "text": [
      "Missing Values:\n",
      "Series([], dtype: int64)\n"
     ]
    }
   ],
   "source": [
    "# Check for missing values\n",
    "print(\"Missing Values:\")\n",
    "print(check_missing_values(merged_df))"
   ]
  },
  {
   "cell_type": "code",
   "execution_count": 12,
   "metadata": {},
   "outputs": [],
   "source": [
    "# Handle missing values\n",
    "df_cleaned = handle_missing_values(stock_data, strategy=\"fill\", fill_value={\"headline\": \"Unknown\"})"
   ]
  },
  {
   "cell_type": "code",
   "execution_count": 29,
   "metadata": {},
   "outputs": [
    {
     "name": "stdout",
     "output_type": "stream",
     "text": [
      "Number of duplicate rows: 0\n"
     ]
    }
   ],
   "source": [
    "# Check for duplicate rows\n",
    "duplicates = merged_df.duplicated()\n",
    "print(\"Number of duplicate rows:\", duplicates.sum())"
   ]
  },
  {
   "cell_type": "code",
   "execution_count": 30,
   "metadata": {},
   "outputs": [
    {
     "data": {
      "text/plain": [
       "Date             object\n",
       "Open            float64\n",
       "High            float64\n",
       "Low             float64\n",
       "Close           float64\n",
       "Adj Close       float64\n",
       "Volume            int64\n",
       "Dividends       float64\n",
       "Stock Splits    float64\n",
       "dtype: object"
      ]
     },
     "execution_count": 30,
     "metadata": {},
     "output_type": "execute_result"
    }
   ],
   "source": [
    "\n",
    "#Check Column Data Types\n",
    "merged_df.dtypes\n"
   ]
  },
  {
   "cell_type": "code",
   "execution_count": 31,
   "metadata": {},
   "outputs": [
    {
     "data": {
      "text/plain": [
       "<bound method DataFrame.info of              Date        Open        High         Low       Close   Adj Close  \\\n",
       "0      1980-12-12    0.128348    0.128906    0.128348    0.128348    0.098943   \n",
       "1      1980-12-15    0.122210    0.122210    0.121652    0.121652    0.093781   \n",
       "2      1980-12-16    0.113281    0.113281    0.112723    0.112723    0.086898   \n",
       "3      1980-12-17    0.115513    0.116071    0.115513    0.115513    0.089049   \n",
       "4      1980-12-18    0.118862    0.119420    0.118862    0.118862    0.091630   \n",
       "...           ...         ...         ...         ...         ...         ...   \n",
       "45423  2024-07-24  225.419998  225.990005  214.710007  215.990005  215.990005   \n",
       "45424  2024-07-25  216.800003  226.000000  216.229996  220.250000  220.250000   \n",
       "45425  2024-07-26  221.190002  222.279999  215.330002  219.800003  219.800003   \n",
       "45426  2024-07-29  224.899994  234.270004  224.699997  232.100006  232.100006   \n",
       "45427  2024-07-30  232.250000  232.410004  220.000000  222.619995  222.619995   \n",
       "\n",
       "          Volume  Dividends  Stock Splits  \n",
       "0      469033600        0.0           0.0  \n",
       "1      175884800        0.0           0.0  \n",
       "2      105728000        0.0           0.0  \n",
       "3       86441600        0.0           0.0  \n",
       "4       73449600        0.0           0.0  \n",
       "...          ...        ...           ...  \n",
       "45423  167942900        0.0           0.0  \n",
       "45424  100636500        0.0           0.0  \n",
       "45425   94604100        0.0           0.0  \n",
       "45426  129201800        0.0           0.0  \n",
       "45427  100560300        0.0           0.0  \n",
       "\n",
       "[45428 rows x 9 columns]>"
      ]
     },
     "execution_count": 31,
     "metadata": {},
     "output_type": "execute_result"
    }
   ],
   "source": [
    "merged_df.info"
   ]
  },
  {
   "cell_type": "code",
   "execution_count": 32,
   "metadata": {},
   "outputs": [
    {
     "data": {
      "text/plain": [
       "Index(['Date', 'Open', 'High', 'Low', 'Close', 'Adj Close', 'Volume',\n",
       "       'Dividends', 'Stock Splits'],\n",
       "      dtype='object')"
      ]
     },
     "execution_count": 32,
     "metadata": {},
     "output_type": "execute_result"
    }
   ],
   "source": [
    "merged_df.columns"
   ]
  },
  {
   "cell_type": "code",
   "execution_count": 34,
   "metadata": {},
   "outputs": [],
   "source": [
    "required_columns = ['Date', 'Open', 'High', 'Low', 'Close', 'Volume']\n",
    "missing_columns = [col for col in required_columns if col not in merged_df.columns]\n",
    "if missing_columns:\n",
    "    print(f\"Missing columns: {missing_columns}\")"
   ]
  },
  {
   "cell_type": "code",
   "execution_count": null,
   "metadata": {},
   "outputs": [],
   "source": [
    "#Check for logical consistency:\n",
    "\n",
    "#Open ≤ High\n",
    "#Low ≤ Close"
   ]
  },
  {
   "cell_type": "code",
   "execution_count": 40,
   "metadata": {},
   "outputs": [
    {
     "name": "stdout",
     "output_type": "stream",
     "text": [
      "Inconsistent rows:\n",
      " Empty DataFrame\n",
      "Columns: [Date, Open, High, Low, Close, Adj Close, Volume, Dividends, Stock Splits]\n",
      "Index: []\n"
     ]
    }
   ],
   "source": [
    "# Validate consistency\n",
    "inconsistent_rows = merged_df[(merged_df['Open'] > merged_df['High']) | (merged_df['Low'] > merged_df['Close'])]\n",
    "print(\"Inconsistent rows:\\n\", inconsistent_rows)\n"
   ]
  },
  {
   "cell_type": "code",
   "execution_count": 41,
   "metadata": {},
   "outputs": [],
   "source": [
    "#Sort the data by date to ensure proper sequencing.\n",
    "merged_df= merged_df.sort_values(by='Date')\n"
   ]
  },
  {
   "cell_type": "code",
   "execution_count": 42,
   "metadata": {},
   "outputs": [
    {
     "data": {
      "text/plain": [
       "<bound method NDFrame.head of              Date        Open        High         Low       Close   Adj Close  \\\n",
       "0      1980-12-12    0.128348    0.128906    0.128348    0.128348    0.098943   \n",
       "1      1980-12-15    0.122210    0.122210    0.121652    0.121652    0.093781   \n",
       "2      1980-12-16    0.113281    0.113281    0.112723    0.112723    0.086898   \n",
       "3      1980-12-17    0.115513    0.116071    0.115513    0.115513    0.089049   \n",
       "4      1980-12-18    0.118862    0.119420    0.118862    0.118862    0.091630   \n",
       "...           ...         ...         ...         ...         ...         ...   \n",
       "41882  2024-07-30  111.519997  111.989998  102.540001  103.730003  103.730003   \n",
       "22863  2024-07-30  171.830002  172.949997  170.119995  171.860001  171.860001   \n",
       "25789  2024-07-30  467.000000  472.730011  456.700012  463.190002  463.190002   \n",
       "35461  2024-07-30  427.720001  429.049988  417.359985  422.920013  422.159119   \n",
       "45427  2024-07-30  232.250000  232.410004  220.000000  222.619995  222.619995   \n",
       "\n",
       "          Volume  Dividends  Stock Splits  \n",
       "0      469033600        0.0           0.0  \n",
       "1      175884800        0.0           0.0  \n",
       "2      105728000        0.0           0.0  \n",
       "3       86441600        0.0           0.0  \n",
       "4       73449600        0.0           0.0  \n",
       "...          ...        ...           ...  \n",
       "41882  486833300        0.0           0.0  \n",
       "22863   13681400        0.0           0.0  \n",
       "25789   11390400        0.0           0.0  \n",
       "35461   32687600        0.0           0.0  \n",
       "45427  100560300        0.0           0.0  \n",
       "\n",
       "[45428 rows x 9 columns]>"
      ]
     },
     "execution_count": 42,
     "metadata": {},
     "output_type": "execute_result"
    }
   ],
   "source": [
    "merged_df.head"
   ]
  },
  {
   "cell_type": "code",
   "execution_count": null,
   "metadata": {},
   "outputs": [],
   "source": [
    "#Add Derived Features (Optional)\n",
    "#Enhance the dataset with additional metrics:\n",
    "\n",
    "#Daily return: (Close - Open) / Open\n",
    "#Price range: High - Low"
   ]
  },
  {
   "cell_type": "code",
   "execution_count": 45,
   "metadata": {},
   "outputs": [],
   "source": [
    "# Add daily return\n",
    "merged_df['Daily Return'] = (merged_df['Close'] - merged_df['Open']) / merged_df['Open']\n",
    "\n",
    "# Add price range\n",
    "merged_df['Price Range'] = merged_df['High'] - merged_df['Low']\n"
   ]
  },
  {
   "cell_type": "code",
   "execution_count": 46,
   "metadata": {},
   "outputs": [
    {
     "data": {
      "text/plain": [
       "0        0.000000\n",
       "1       -0.004566\n",
       "2       -0.004926\n",
       "3        0.000000\n",
       "4        0.000000\n",
       "           ...   \n",
       "41882   -0.069853\n",
       "22863    0.000175\n",
       "25789   -0.008158\n",
       "35461   -0.011222\n",
       "45427   -0.041464\n",
       "Name: Daily Return, Length: 45428, dtype: float64"
      ]
     },
     "execution_count": 46,
     "metadata": {},
     "output_type": "execute_result"
    }
   ],
   "source": [
    "merged_df['Daily Return']"
   ]
  },
  {
   "cell_type": "code",
   "execution_count": 47,
   "metadata": {},
   "outputs": [
    {
     "data": {
      "text/plain": [
       "0         0.000558\n",
       "1         0.000558\n",
       "2         0.000558\n",
       "3         0.000558\n",
       "4         0.000558\n",
       "           ...    \n",
       "41882     9.449997\n",
       "22863     2.830002\n",
       "25789    16.029999\n",
       "35461    11.690002\n",
       "45427    12.410004\n",
       "Name: Price Range, Length: 45428, dtype: float64"
      ]
     },
     "execution_count": 47,
     "metadata": {},
     "output_type": "execute_result"
    }
   ],
   "source": [
    "merged_df['Price Range']"
   ]
  },
  {
   "cell_type": "code",
   "execution_count": 49,
   "metadata": {},
   "outputs": [],
   "source": [
    "#Save the cleaned data for further analysis.\n",
    "# Save to a new CSV\n",
    "merged_df.to_csv(\"cleaned_stock_data.csv\", index=False)"
   ]
  },
  {
   "cell_type": "code",
   "execution_count": 5,
   "metadata": {},
   "outputs": [],
   "source": [
    "#calculate indicators"
   ]
  },
  {
   "cell_type": "code",
   "execution_count": 23,
   "metadata": {},
   "outputs": [],
   "source": [
    "# Add technical indicators for multiple columns\n",
    "stock_data = calculate_all_indicators(merged_df)\n"
   ]
  },
  {
   "cell_type": "code",
   "execution_count": 20,
   "metadata": {},
   "outputs": [
    {
     "name": "stdout",
     "output_type": "stream",
     "text": [
      "       SMA_Close_50  EMA_Close_50  RSI_Close  MACD_Close  MACD_Signal_Close  \\\n",
      "0               NaN           NaN        NaN         NaN                NaN   \n",
      "1               NaN           NaN        NaN         NaN                NaN   \n",
      "2               NaN           NaN        NaN         NaN                NaN   \n",
      "3               NaN           NaN        NaN         NaN                NaN   \n",
      "4               NaN           NaN        NaN         NaN                NaN   \n",
      "...             ...           ...        ...         ...                ...   \n",
      "45423      202.1838    212.323676  44.886918   11.789291          15.873789   \n",
      "45424      203.1510    212.634512  46.951389    9.353206          14.569672   \n",
      "45425      203.9960    212.915512  46.752165    7.302106          13.116159   \n",
      "45426      205.1582    213.667845  52.664511    6.593101          11.811547   \n",
      "45427      206.1138    214.018909  48.220474    5.206237          10.490485   \n",
      "\n",
      "       MACD_Hist_Close  \n",
      "0                  NaN  \n",
      "1                  NaN  \n",
      "2                  NaN  \n",
      "3                  NaN  \n",
      "4                  NaN  \n",
      "...                ...  \n",
      "45423        -4.084498  \n",
      "45424        -5.216466  \n",
      "45425        -5.814053  \n",
      "45426        -5.218447  \n",
      "45427        -5.284248  \n",
      "\n",
      "[45428 rows x 6 columns]\n"
     ]
    }
   ],
   "source": [
    "# Print Close indicators\n",
    "print(stock_data[['SMA_Close_50', 'EMA_Close_50', 'RSI_Close', 'MACD_Close', 'MACD_Signal_Close', 'MACD_Hist_Close']])"
   ]
  },
  {
   "cell_type": "code",
   "execution_count": null,
   "metadata": {},
   "outputs": [],
   "source": []
  }
 ],
 "metadata": {
  "kernelspec": {
   "display_name": "Python 3",
   "language": "python",
   "name": "python3"
  },
  "language_info": {
   "codemirror_mode": {
    "name": "ipython",
    "version": 3
   },
   "file_extension": ".py",
   "mimetype": "text/x-python",
   "name": "python",
   "nbconvert_exporter": "python",
   "pygments_lexer": "ipython3",
   "version": "3.13.1"
  }
 },
 "nbformat": 4,
 "nbformat_minor": 2
}
